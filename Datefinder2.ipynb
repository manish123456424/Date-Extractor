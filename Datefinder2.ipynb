{
 "cells": [
  {
   "cell_type": "code",
   "execution_count": 1,
   "metadata": {},
   "outputs": [],
   "source": [
    "import cv2\n",
    "import numpy as np\n",
    "import pytesseract, re\n",
    "from PIL import Image"
   ]
  },
  {
   "cell_type": "code",
   "execution_count": 7,
   "metadata": {},
   "outputs": [],
   "source": [
    "#pytesseract.pytesseract.tesseract_cmd = r\"C:\\Program Files\\Tesseract-OCR\\tesseract.exe\"\n",
    "# read the image using OpenCV\n",
    "image = cv2.imread(\"01a0cabb.jpeg\")\n",
    "# or you can use Pillow\n",
    "# image = Image.open(\"test.png\")\n"
   ]
  },
  {
   "cell_type": "code",
   "execution_count": 10,
   "metadata": {},
   "outputs": [],
   "source": [
    "pytesseract.pytesseract.tesseract_cmd = r\"C:\\Program Files\\Tesseract-OCR\\tesseract.exe\""
   ]
  },
  {
   "cell_type": "code",
   "execution_count": 11,
   "metadata": {},
   "outputs": [],
   "source": [
    "string = pytesseract.image_to_string(image)"
   ]
  },
  {
   "cell_type": "code",
   "execution_count": 12,
   "metadata": {},
   "outputs": [
    {
     "name": "stdout",
     "output_type": "stream",
     "text": [
      "Server:\n",
      "\n",
      "Receipt\n",
      "FourthStreetMill eee\n",
      "\n",
      "2124 BONITA AVENUE\n",
      "LA VERNE, CA 91750\n",
      "(909) 596-1564\n",
      "\n",
      "   \n",
      "  \n",
      "  \n",
      "  \n",
      "  \n",
      "  \n",
      "  \n",
      "   \n",
      "   \n",
      "  \n",
      "  \n",
      " \n",
      "  \n",
      "\n",
      "Dine In\n",
      "Server: Chris D. Sep 29, 2018\n",
      "Receipt: 4433 5:38 PM\n",
      "Table: PS\n",
      "el\n",
      "Item(s)\n",
      "Lamb Burger $13.00\n",
      "NO Goat Cheese\n",
      "NO Bread\n",
      "- Medium\n",
      "Sauce On Side\n",
      "Kids Grilled Cheese $5.00\n",
      "Kids Fries $3.00\n",
      "Sweet Potato Fries $8.00\n",
      "Kids Cheeseburger $7.00.\n",
      "- NO Ketchup\n",
      "- No bun\n",
      "Sub sourdough\n",
      "Beef Burger $10.00\n",
      "~- Medium Rare\n",
      "Sides $3.50\n",
      "\n",
      "- Bacon (2) Slices\n",
      "\n",
      "he ee ee\n",
      "\n",
      "Subtotal\n",
      "\n",
      "$49.50\n",
      "Sales Tax (Incl. 9.5%) $4.70\n",
      "Total $54.20\n",
      "\n",
      "‘eaiereetipetinenienenimnassa\n"
     ]
    }
   ],
   "source": [
    "print(string)"
   ]
  },
  {
   "cell_type": "code",
   "execution_count": 13,
   "metadata": {},
   "outputs": [
    {
     "name": "stdout",
     "output_type": "stream",
     "text": [
      "2124-11-25 00:00:00\n"
     ]
    }
   ],
   "source": [
    "import datefinder\n",
    "# a generator will be returned by the datefinder module. I'm typecasting it to a list. Please read the note of caution provided at the bottom.\n",
    "matches = list(datefinder.find_dates(string))\n",
    "\n",
    "if len(matches) > 0:\n",
    "    # date returned will be a datetime.datetime object. here we are only using the first match.\n",
    "    date = matches[0]\n",
    "    print (date)\n",
    "else:\n",
    "    print ('No dates found')"
   ]
  },
  {
   "cell_type": "code",
   "execution_count": null,
   "metadata": {},
   "outputs": [],
   "source": []
  },
  {
   "cell_type": "code",
   "execution_count": null,
   "metadata": {},
   "outputs": [],
   "source": []
  }
 ],
 "metadata": {
  "kernelspec": {
   "display_name": "Python 3",
   "language": "python",
   "name": "python3"
  },
  "language_info": {
   "codemirror_mode": {
    "name": "ipython",
    "version": 3
   },
   "file_extension": ".py",
   "mimetype": "text/x-python",
   "name": "python",
   "nbconvert_exporter": "python",
   "pygments_lexer": "ipython3",
   "version": "3.7.4"
  }
 },
 "nbformat": 4,
 "nbformat_minor": 2
}
